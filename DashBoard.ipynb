{
 "cells": [
  {
   "cell_type": "markdown",
   "id": "black-disease",
   "metadata": {},
   "source": [
    "# DashBoard for experiments using FRE"
   ]
  },
  {
   "cell_type": "code",
   "execution_count": null,
   "id": "russian-woman",
   "metadata": {},
   "outputs": [],
   "source": [
    "from pp_funcs import pp_verif"
   ]
  },
  {
   "cell_type": "code",
   "execution_count": null,
   "id": "senior-mills",
   "metadata": {},
   "outputs": [],
   "source": [
    "freversion = '' # bronx-19\n",
    "xmlpath = '' # Full path to FRE xml used to produce experiment\n",
    "ppdir = '' # Full path to pp directory on archive"
   ]
  },
  {
   "cell_type": "markdown",
   "id": "characteristic-government",
   "metadata": {},
   "source": [
    "## pp check"
   ]
  },
  {
   "cell_type": "code",
   "execution_count": null,
   "id": "inclusive-melbourne",
   "metadata": {},
   "outputs": [],
   "source": [
    "pp_verif(ppdir, xmlpath, freversion, realm=\"ocean\")"
   ]
  },
  {
   "cell_type": "code",
   "execution_count": null,
   "id": "statistical-newman",
   "metadata": {},
   "outputs": [],
   "source": [
    "pp_verif(ppdir, xmlpath, freversion, realm=\"atmos\")"
   ]
  },
  {
   "cell_type": "code",
   "execution_count": null,
   "id": "banner-above",
   "metadata": {},
   "outputs": [],
   "source": [
    "pp_verif(ppdir, xmlpath, freversion, realm=\"land\")"
   ]
  },
  {
   "cell_type": "code",
   "execution_count": null,
   "id": "occupational-timer",
   "metadata": {},
   "outputs": [],
   "source": [
    "pp_verif(ppdir, xmlpath, freversion, realm=\"river\")"
   ]
  },
  {
   "cell_type": "code",
   "execution_count": null,
   "id": "instant-warrior",
   "metadata": {},
   "outputs": [],
   "source": [
    "pp_verif(ppdir, xmlpath, freversion, realm=\"ice\")"
   ]
  }
 ],
 "metadata": {
  "kernelspec": {
   "display_name": "Mackenzie",
   "language": "python",
   "name": "mackenzie"
  },
  "language_info": {
   "codemirror_mode": {
    "name": "ipython",
    "version": 3
   },
   "file_extension": ".py",
   "mimetype": "text/x-python",
   "name": "python",
   "nbconvert_exporter": "python",
   "pygments_lexer": "ipython3",
   "version": "3.8.6"
  }
 },
 "nbformat": 4,
 "nbformat_minor": 5
}
