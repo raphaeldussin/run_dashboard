{
 "cells": [
  {
   "cell_type": "markdown",
   "id": "mighty-while",
   "metadata": {},
   "source": [
    "# DashBoard for experiments using FRE"
   ]
  },
  {
   "cell_type": "code",
   "execution_count": null,
   "id": "joined-irish",
   "metadata": {},
   "outputs": [],
   "source": [
    "from pp_funcs import pp_verif"
   ]
  },
  {
   "cell_type": "code",
   "execution_count": null,
   "id": "damaged-teacher",
   "metadata": {},
   "outputs": [],
   "source": [
    "freversion = '' # bronx-19\n",
    "xmlpath = '' # Full path to FRE xml used to produce experiment\n",
    "ppdir = '' # Full path to pp directory on archive"
   ]
  },
  {
   "cell_type": "markdown",
   "id": "dental-blink",
   "metadata": {},
   "source": [
    "## pp check"
   ]
  },
  {
   "cell_type": "code",
   "execution_count": null,
   "id": "retired-dublin",
   "metadata": {},
   "outputs": [],
   "source": [
    "pp_verif(ppdir, xmlpath, freversion, model=\"ocean\")"
   ]
  },
  {
   "cell_type": "code",
   "execution_count": null,
   "id": "historical-foundation",
   "metadata": {},
   "outputs": [],
   "source": [
    "pp_verif(ppdir, xmlpath, freversion, model=\"atmos\")"
   ]
  },
  {
   "cell_type": "code",
   "execution_count": null,
   "id": "offensive-implement",
   "metadata": {},
   "outputs": [],
   "source": [
    "pp_verif(ppdir, xmlpath, freversion, model=\"land\")"
   ]
  },
  {
   "cell_type": "code",
   "execution_count": null,
   "id": "minus-reproduction",
   "metadata": {},
   "outputs": [],
   "source": [
    "pp_verif(ppdir, xmlpath, freversion, model=\"river\")"
   ]
  },
  {
   "cell_type": "code",
   "execution_count": null,
   "id": "twelve-force",
   "metadata": {},
   "outputs": [],
   "source": [
    "pp_verif(ppdir, xmlpath, freversion, model=\"ice\")"
   ]
  }
 ],
 "metadata": {
  "kernelspec": {
   "display_name": "Mackenzie",
   "language": "python",
   "name": "mackenzie"
  },
  "language_info": {
   "codemirror_mode": {
    "name": "ipython",
    "version": 3
   },
   "file_extension": ".py",
   "mimetype": "text/x-python",
   "name": "python",
   "nbconvert_exporter": "python",
   "pygments_lexer": "ipython3",
   "version": "3.8.6"
  }
 },
 "nbformat": 4,
 "nbformat_minor": 5
}
