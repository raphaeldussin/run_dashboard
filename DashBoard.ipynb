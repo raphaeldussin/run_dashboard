{
 "cells": [
  {
   "cell_type": "markdown",
   "id": "turned-concentrate",
   "metadata": {},
   "source": [
    "# DashBoard for experiments using FRE"
   ]
  },
  {
   "cell_type": "code",
   "execution_count": null,
   "id": "possible-class",
   "metadata": {},
   "outputs": [],
   "source": [
    "from pp_funcs import pp_verif\n",
    "from perf_funcs import build_stats_run"
   ]
  },
  {
   "cell_type": "code",
   "execution_count": null,
   "id": "incident-median",
   "metadata": {},
   "outputs": [],
   "source": [
    "freversion = '' # bronx-19\n",
    "xmlpath = '' # Full path to FRE xml used to produce experiment\n",
    "ppdir = '' # Full path to pp directory on archive"
   ]
  },
  {
   "cell_type": "markdown",
   "id": "treated-split",
   "metadata": {},
   "source": [
    "## Perf check"
   ]
  },
  {
   "cell_type": "code",
   "execution_count": null,
   "id": "graphic-reach",
   "metadata": {},
   "outputs": [],
   "source": [
    "stats = build_stats_run(ppdir.replace('pp',''))"
   ]
  },
  {
   "cell_type": "code",
   "execution_count": null,
   "id": "antique-pantyhose",
   "metadata": {},
   "outputs": [],
   "source": [
    "total = stats[stats['model'] == 'Total runtime']\n",
    "total.plot(x='year', y='tavg', marker='o', figsize=[10,8])"
   ]
  },
  {
   "cell_type": "markdown",
   "id": "collective-history",
   "metadata": {},
   "source": [
    "## pp check"
   ]
  },
  {
   "cell_type": "code",
   "execution_count": null,
   "id": "processed-plane",
   "metadata": {},
   "outputs": [],
   "source": [
    "pp_verif(ppdir, xmlpath, freversion, model=\"ocean\")"
   ]
  },
  {
   "cell_type": "code",
   "execution_count": null,
   "id": "seven-australia",
   "metadata": {},
   "outputs": [],
   "source": [
    "pp_verif(ppdir, xmlpath, freversion, model=\"ocean\", ftype=\"av\")"
   ]
  },
  {
   "cell_type": "code",
   "execution_count": null,
   "id": "integral-graham",
   "metadata": {},
   "outputs": [],
   "source": [
    "pp_verif(ppdir, xmlpath, freversion, model=\"atmos\")"
   ]
  },
  {
   "cell_type": "code",
   "execution_count": null,
   "id": "fifth-thanksgiving",
   "metadata": {},
   "outputs": [],
   "source": [
    "pp_verif(ppdir, xmlpath, freversion, model=\"atmos\", ftype=\"av\")"
   ]
  },
  {
   "cell_type": "code",
   "execution_count": null,
   "id": "explicit-accounting",
   "metadata": {},
   "outputs": [],
   "source": [
    "pp_verif(ppdir, xmlpath, freversion, model=\"land\")"
   ]
  },
  {
   "cell_type": "code",
   "execution_count": null,
   "id": "recreational-discussion",
   "metadata": {},
   "outputs": [],
   "source": [
    "pp_verif(ppdir, xmlpath, freversion, model=\"land\", ftype=\"av\")"
   ]
  },
  {
   "cell_type": "code",
   "execution_count": null,
   "id": "chubby-updating",
   "metadata": {},
   "outputs": [],
   "source": [
    "pp_verif(ppdir, xmlpath, freversion, model=\"river\")"
   ]
  },
  {
   "cell_type": "code",
   "execution_count": null,
   "id": "federal-despite",
   "metadata": {},
   "outputs": [],
   "source": [
    "pp_verif(ppdir, xmlpath, freversion, model=\"river\", ftype=\"av\")"
   ]
  },
  {
   "cell_type": "code",
   "execution_count": null,
   "id": "sharing-savannah",
   "metadata": {},
   "outputs": [],
   "source": [
    "pp_verif(ppdir, xmlpath, freversion, model=\"ice\")"
   ]
  },
  {
   "cell_type": "code",
   "execution_count": null,
   "id": "threatened-reducing",
   "metadata": {},
   "outputs": [],
   "source": [
    "pp_verif(ppdir, xmlpath, freversion, model=\"ice\", ftype=\"av\")"
   ]
  }
 ],
 "metadata": {
  "kernelspec": {
   "display_name": "mac",
   "language": "python",
   "name": "mackenzie"
  },
  "language_info": {
   "codemirror_mode": {
    "name": "ipython",
    "version": 3
   },
   "file_extension": ".py",
   "mimetype": "text/x-python",
   "name": "python",
   "nbconvert_exporter": "python",
   "pygments_lexer": "ipython3",
   "version": "3.8.6"
  }
 },
 "nbformat": 4,
 "nbformat_minor": 5
}
